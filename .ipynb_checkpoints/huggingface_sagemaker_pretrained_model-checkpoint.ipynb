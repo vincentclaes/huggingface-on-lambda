{
 "cells": [
  {
   "cell_type": "markdown",
   "id": "e1294866",
   "metadata": {},
   "source": [
    "# Get Huggingface pretrained model"
   ]
  },
  {
   "cell_type": "code",
   "execution_count": null,
   "id": "e13d4278",
   "metadata": {},
   "outputs": [],
   "source": [
    "!pip install sagemaker --upgrade"
   ]
  },
  {
   "cell_type": "code",
   "execution_count": null,
   "id": "bdabf599",
   "metadata": {},
   "outputs": [],
   "source": [
    "> if you get an import error you might want to restart the kernel"
   ]
  },
  {
   "cell_type": "markdown",
   "id": "404b27e0",
   "metadata": {},
   "source": [
    "## Get pretrained model and save it"
   ]
  },
  {
   "cell_type": "code",
   "execution_count": null,
   "id": "3f709145",
   "metadata": {},
   "outputs": [],
   "source": [
    "from sagemaker.huggingface.model import HuggingFaceModel\n",
    "\n",
    "# Hub Model configuration. <https://huggingface.co/models>\n",
    "hub = {\n",
    "  \"HF_MODEL_ID\":\"distilbert-base-uncased-distilled-squad\", # model_id from hf.co/models\n",
    "  \"HF_TASK\":\"sentiment-analysis\" # NLP task you want to use for predictions\n",
    "}\n",
    "\n",
    "# create Hugging Face Model Class\n",
    "huggingface_model = HuggingFaceModel(\n",
    "   env=hub, # configuration for loading model from Hub\n",
    "   role=role, # iam role with permissions to create an Endpoint\n",
    "   transformers_version=\"4.6\", # transformers version used\n",
    "   pytorch_version=\"1.7\", # pytorch version used\n",
    "   py_version='py36', # python version used\n",
    ")\n",
    "\n",
    "# deploy model to SageMaker Inference\n",
    "predictor = huggingface_model.deploy(\n",
    "   initial_instance_count=1,\n",
    "   instance_type=\"ml.m5.xlarge\"\n",
    ")"
   ]
  },
  {
   "cell_type": "code",
   "execution_count": null,
   "id": "c4128a8b",
   "metadata": {},
   "outputs": [],
   "source": []
  },
  {
   "cell_type": "code",
   "execution_count": null,
   "id": "b69ea487",
   "metadata": {},
   "outputs": [],
   "source": []
  },
  {
   "cell_type": "code",
   "execution_count": null,
   "id": "c8d2ddf4",
   "metadata": {},
   "outputs": [],
   "source": []
  },
  {
   "cell_type": "code",
   "execution_count": 3,
   "id": "4e195a06",
   "metadata": {},
   "outputs": [],
   "source": [
    "pretrained_classifier = pipeline(\"sentiment-analysis\")"
   ]
  },
  {
   "cell_type": "code",
   "execution_count": 4,
   "id": "ada66c3e",
   "metadata": {},
   "outputs": [
    {
     "data": {
      "text/plain": [
       "[{'label': 'POSITIVE', 'score': 0.9998599290847778},\n",
       " {'label': 'NEGATIVE', 'score': 0.9997907280921936}]"
      ]
     },
     "execution_count": 4,
     "metadata": {},
     "output_type": "execute_result"
    }
   ],
   "source": [
    "pretrained_classifier([\n",
    "    \"I really like this place!\",\n",
    "    \"The food was bad!\"\n",
    "])"
   ]
  },
  {
   "cell_type": "code",
   "execution_count": 5,
   "id": "860c4cc1",
   "metadata": {},
   "outputs": [],
   "source": [
    "pretrained_classifier.save_pretrained(\"./model/\")"
   ]
  },
  {
   "cell_type": "markdown",
   "id": "451d8351",
   "metadata": {},
   "source": [
    "## Check if we can successfully load the saved model"
   ]
  },
  {
   "cell_type": "code",
   "execution_count": 6,
   "id": "5256a2af",
   "metadata": {},
   "outputs": [],
   "source": [
    "local_classifier = pipeline('sentiment-analysis', model=\"./model/\", tokenizer=\"./model/\")"
   ]
  },
  {
   "cell_type": "code",
   "execution_count": 7,
   "id": "70c32e7a",
   "metadata": {},
   "outputs": [
    {
     "data": {
      "text/plain": [
       "[{'label': 'POSITIVE', 'score': 0.9998599290847778},\n",
       " {'label': 'NEGATIVE', 'score': 0.9997907280921936}]"
      ]
     },
     "execution_count": 7,
     "metadata": {},
     "output_type": "execute_result"
    }
   ],
   "source": [
    "local_classifier([\n",
    "    \"I really like this place!\",\n",
    "    \"The food was bad!\"\n",
    "])"
   ]
  },
  {
   "cell_type": "markdown",
   "id": "ed427d4f",
   "metadata": {},
   "source": [
    "## Build container for Lambda"
   ]
  },
  {
   "cell_type": "code",
   "execution_count": 8,
   "id": "b7e29363",
   "metadata": {},
   "outputs": [
    {
     "name": "stdout",
     "output_type": "stream",
     "text": [
      "Python 3.6.13\n",
      "Torch version 1.7.1\n",
      "Transformers version 4.9.2\n"
     ]
    }
   ],
   "source": [
    "!python --version\n",
    "print(f\"Torch version {torch.__version__}\")\n",
    "print(f\"Transformers version {transformers.__version__}\")"
   ]
  },
  {
   "cell_type": "code",
   "execution_count": 39,
   "id": "b6042949",
   "metadata": {},
   "outputs": [],
   "source": [
    "!pip freeze > requirements.txt"
   ]
  },
  {
   "cell_type": "code",
   "execution_count": 51,
   "id": "93e045cf",
   "metadata": {},
   "outputs": [],
   "source": [
    "a = \"lsdfjlsflfsf\""
   ]
  },
  {
   "cell_type": "code",
   "execution_count": 55,
   "id": "06afaa55",
   "metadata": {},
   "outputs": [
    {
     "name": "stdout",
     "output_type": "stream",
     "text": [
      "Overwriting requirements.txt\n"
     ]
    }
   ],
   "source": [
    "%%writefile requirements.txt\n",
    "--find-links  https://download.pytorch.org/whl/torch_stable.html \n",
    " \n",
    "torch==1.7.1+cpu\n",
    "transformers==4.9.2"
   ]
  },
  {
   "cell_type": "markdown",
   "id": "0c405b0b",
   "metadata": {},
   "source": [
    "### Get a base image for huggingface and pytorch"
   ]
  },
  {
   "cell_type": "code",
   "execution_count": 56,
   "id": "7596a9a6",
   "metadata": {},
   "outputs": [],
   "source": [
    "# from sagemaker.huggingface import HuggingFaceModel\n",
    "# from sagemaker import get_execution_role\n",
    "# import boto3"
   ]
  },
  {
   "cell_type": "code",
   "execution_count": 57,
   "id": "83636c48",
   "metadata": {},
   "outputs": [],
   "source": [
    "# hub = {\n",
    "# #   'HF_MODEL_ID':'distilbert-base-uncased-distilled-squad',\n",
    "#   'HF_TASK':'\"sentiment-analysis\"'\n",
    "# }\n",
    "# # create Hugging Face Model Class\n",
    "# huggingface_model = HuggingFaceModel(\n",
    "#     transformers_version='4.9',\n",
    "#     pytorch_version='1.7',\n",
    "#     py_version='py36',\n",
    "#     env=hub,\n",
    "#     role=get_execution_role(),\n",
    "# )"
   ]
  },
  {
   "cell_type": "code",
   "execution_count": 58,
   "id": "8981c171",
   "metadata": {},
   "outputs": [],
   "source": [
    "# boto3_session = boto3.session.Session()\n",
    "# current_region = boto3_session.region_name\n",
    "# base_image = huggingface_model.serving_image_uri(current_region, instance_type=\"ml.c5.medium\")\n",
    "# base_image"
   ]
  },
  {
   "cell_type": "markdown",
   "id": "626cca87",
   "metadata": {},
   "source": [
    "### Write dockerfile"
   ]
  },
  {
   "cell_type": "markdown",
   "id": "f0cbbbec",
   "metadata": {},
   "source": [
    "https://docs.aws.amazon.com/lambda/latest/dg/images-create.html"
   ]
  },
  {
   "cell_type": "code",
   "execution_count": 59,
   "id": "c8fd1280",
   "metadata": {},
   "outputs": [
    {
     "name": "stdout",
     "output_type": "stream",
     "text": [
      "Overwriting Dockerfile\n"
     ]
    }
   ],
   "source": [
    "%%writefile Dockerfile\n",
    "FROM public.ecr.aws/lambda/python:3.8\n",
    "\n",
    "COPY requirements.txt ./requirements.txt\n",
    "RUN pip install -r requirements.txt \n",
    "\n",
    "COPY ./app/app.py   ./\n",
    "CMD [\"app.handler\"]"
   ]
  },
  {
   "cell_type": "code",
   "execution_count": 69,
   "id": "2d6e914c",
   "metadata": {},
   "outputs": [],
   "source": [
    "# !sudo chown -R $USER ."
   ]
  },
  {
   "cell_type": "code",
   "execution_count": 68,
   "id": "822cd4f4",
   "metadata": {},
   "outputs": [],
   "source": [
    "# !docker build -f Dockerfile ."
   ]
  },
  {
   "cell_type": "markdown",
   "id": "bc6002ee",
   "metadata": {},
   "source": [
    "## Build dockerfile in codebuild and push to ECR"
   ]
  },
  {
   "cell_type": "code",
   "execution_count": 64,
   "id": "2473c22e",
   "metadata": {},
   "outputs": [
    {
     "name": "stdout",
     "output_type": "stream",
     "text": [
      "\u001b[33mWARNING: You are using pip version 21.1.2; however, version 21.2.4 is available.\r\n",
      "You should consider upgrading via the '/home/ec2-user/anaconda3/envs/pytorch_latest_p36/bin/python -m pip install --upgrade pip' command.\u001b[0m\r\n"
     ]
    }
   ],
   "source": [
    "!pip install sagemaker-studio-image-build --quiet"
   ]
  },
  {
   "cell_type": "markdown",
   "id": "a0e9d337",
   "metadata": {},
   "source": [
    "make sure this role has a trust relationship with codebuild\n",
    "\n",
    "https://github.com/aws-samples/sagemaker-studio-image-build-cli"
   ]
  },
  {
   "cell_type": "code",
   "execution_count": 70,
   "id": "79bca894",
   "metadata": {},
   "outputs": [
    {
     "name": "stdout",
     "output_type": "stream",
     "text": [
      "Created ECR repository huggingface-on-lambda\n",
      "...[Container] 2021/08/17 05:26:28 Waiting for agent ping\n",
      "\n",
      "[Container] 2021/08/17 05:26:31 Waiting for DOWNLOAD_SOURCE\n",
      "[Container] 2021/08/17 05:26:34 Phase is DOWNLOAD_SOURCE\n",
      "[Container] 2021/08/17 05:26:34 CODEBUILD_SRC_DIR=/codebuild/output/src696372668/src\n",
      "[Container] 2021/08/17 05:26:34 YAML location is /codebuild/output/src696372668/src/buildspec.yml\n",
      "[Container] 2021/08/17 05:26:34 Processing environment variables\n",
      "[Container] 2021/08/17 05:26:34 No runtime version selected in buildspec.\n",
      "[Container] 2021/08/17 05:26:34 Moving to directory /codebuild/output/src696372668/src\n",
      "[Container] 2021/08/17 05:26:34 Registering with agent\n",
      "[Container] 2021/08/17 05:26:34 Phases found in YAML: 3\n",
      "[Container] 2021/08/17 05:26:34  PRE_BUILD: 9 commands\n",
      "[Container] 2021/08/17 05:26:34  BUILD: 4 commands\n",
      "[Container] 2021/08/17 05:26:34  POST_BUILD: 3 commands\n",
      "[Container] 2021/08/17 05:26:34 Phase complete: DOWNLOAD_SOURCE State: SUCCEEDED\n",
      "[Container] 2021/08/17 05:26:34 Phase context status code:  Message:\n",
      "[Container] 2021/08/17 05:26:34 Entering phase INSTALL\n",
      "[Container] 2021/08/17 05:26:34 Phase complete: INSTALL State: SUCCEEDED\n",
      "[Container] 2021/08/17 05:26:34 Phase context status code:  Message:\n",
      "[Container] 2021/08/17 05:26:34 Entering phase PRE_BUILD\n",
      "[Container] 2021/08/17 05:26:34 Running command echo Logging in to Amazon ECR...\n",
      "Logging in to Amazon ECR...\n",
      "\n",
      "[Container] 2021/08/17 05:26:34 Running command $(aws ecr get-login --no-include-email --region $AWS_DEFAULT_REGION)\n",
      "WARNING! Using --password via the CLI is insecure. Use --password-stdin.\n",
      "WARNING! Your password will be stored unencrypted in /root/.docker/config.json.\n",
      "Configure a credential helper to remove this warning. See\n",
      "https://docs.docker.com/engine/reference/commandline/login/#credentials-store\n",
      "\n",
      "Login Succeeded\n",
      "\n",
      "[Container] 2021/08/17 05:26:40 Running command $(aws ecr get-login --no-include-email --region $AWS_DEFAULT_REGION --registry-ids 763104351884)\n",
      "WARNING! Using --password via the CLI is insecure. Use --password-stdin.\n",
      "WARNING! Your password will be stored unencrypted in /root/.docker/config.json.\n",
      "Configure a credential helper to remove this warning. See\n",
      "https://docs.docker.com/engine/reference/commandline/login/#credentials-store\n",
      "\n",
      "Login Succeeded\n",
      "\n",
      "[Container] 2021/08/17 05:26:41 Running command $(aws ecr get-login --no-include-email --region $AWS_DEFAULT_REGION --registry-ids 217643126080)\n",
      "WARNING! Using --password via the CLI is insecure. Use --password-stdin.\n",
      "WARNING! Your password will be stored unencrypted in /root/.docker/config.json.\n",
      "Configure a credential helper to remove this warning. See\n",
      "https://docs.docker.com/engine/reference/commandline/login/#credentials-store\n",
      "\n",
      "Login Succeeded\n",
      "\n",
      "[Container] 2021/08/17 05:26:41 Running command $(aws ecr get-login --no-include-email --region $AWS_DEFAULT_REGION --registry-ids 727897471807)\n",
      "WARNING! Using --password via the CLI is insecure. Use --password-stdin.\n",
      "WARNING! Your password will be stored unencrypted in /root/.docker/config.json.\n",
      "Configure a credential helper to remove this warning. See\n",
      "https://docs.docker.com/engine/reference/commandline/login/#credentials-store\n",
      "\n",
      "Login Succeeded\n",
      "\n",
      "[Container] 2021/08/17 05:26:42 Running command $(aws ecr get-login --no-include-email --region $AWS_DEFAULT_REGION --registry-ids 626614931356)\n",
      "WARNING! Using --password via the CLI is insecure. Use --password-stdin.\n",
      "WARNING! Your password will be stored unencrypted in /root/.docker/config.json.\n",
      "Configure a credential helper to remove this warning. See\n",
      "https://docs.docker.com/engine/reference/commandline/login/#credentials-store\n",
      "\n",
      "Login Succeeded\n",
      "\n",
      "[Container] 2021/08/17 05:26:42 Running command $(aws ecr get-login --no-include-email --region $AWS_DEFAULT_REGION --registry-ids 683313688378)\n",
      "WARNING! Using --password via the CLI is insecure. Use --password-stdin.\n",
      "WARNING! Your password will be stored unencrypted in /root/.docker/config.json.\n",
      "Configure a credential helper to remove this warning. See\n",
      "https://docs.docker.com/engine/reference/commandline/login/#credentials-store\n",
      "\n",
      "Login Succeeded\n",
      "\n",
      "[Container] 2021/08/17 05:26:43 Running command $(aws ecr get-login --no-include-email --region $AWS_DEFAULT_REGION --registry-ids 520713654638)\n",
      "WARNING! Using --password via the CLI is insecure. Use --password-stdin.\n",
      "WARNING! Your password will be stored unencrypted in /root/.docker/config.json.\n",
      "Configure a credential helper to remove this warning. See\n",
      "https://docs.docker.com/engine/reference/commandline/login/#credentials-store\n",
      "\n",
      "Login Succeeded\n",
      "\n",
      "[Container] 2021/08/17 05:26:43 Running command $(aws ecr get-login --no-include-email --region $AWS_DEFAULT_REGION --registry-ids 462105765813)\n",
      "WARNING! Using --password via the CLI is insecure. Use --password-stdin.\n",
      "WARNING! Your password will be stored unencrypted in /root/.docker/config.json.\n",
      "Configure a credential helper to remove this warning. See\n",
      "https://docs.docker.com/engine/reference/commandline/login/#credentials-store\n",
      "\n",
      "Login Succeeded\n",
      "\n",
      "[Container] 2021/08/17 05:26:44 Phase complete: PRE_BUILD State: SUCCEEDED\n",
      "[Container] 2021/08/17 05:26:44 Phase context status code:  Message:\n",
      "[Container] 2021/08/17 05:26:44 Entering phase BUILD\n",
      "[Container] 2021/08/17 05:26:44 Running command echo Build started on `date`\n",
      "Build started on Tue Aug 17 05:26:44 UTC 2021\n",
      "\n",
      "[Container] 2021/08/17 05:26:44 Running command echo Building the Docker image...\n",
      "Building the Docker image...\n",
      "\n",
      "[Container] 2021/08/17 05:26:44 Running command docker build -t $IMAGE_REPO_NAME:$IMAGE_TAG .\n",
      "Sending build context to Docker daemon  268.6MB\n",
      "Step 1/5 : FROM public.ecr.aws/lambda/python:3.8\n",
      "3.8: Pulling from lambda/python\n",
      "4c85a9186b09: Pulling fs layer\n",
      "75209e7ff666: Pulling fs layer\n",
      "ff02b8573dad: Pulling fs layer\n",
      "03ac043af787: Pulling fs layer\n",
      "f7c8d350a671: Pulling fs layer\n",
      "38e8d09dac12: Pulling fs layer\n",
      "03ac043af787: Waiting\n",
      "f7c8d350a671: Waiting\n",
      "38e8d09dac12: Waiting\n",
      "ff02b8573dad: Verifying Checksum\n",
      "ff02b8573dad: Download complete\n",
      "75209e7ff666: Download complete\n",
      "03ac043af787: Verifying Checksum\n",
      "03ac043af787: Download complete\n",
      "4c85a9186b09: Verifying Checksum\n",
      "4c85a9186b09: Download complete\n",
      "f7c8d350a671: Verifying Checksum\n",
      "f7c8d350a671: Download complete\n",
      "38e8d09dac12: Verifying Checksum\n",
      "38e8d09dac12: Download complete\n",
      "4c85a9186b09: Pull complete\n",
      "75209e7ff666: Pull complete\n",
      "ff02b8573dad: Pull complete\n",
      "03ac043af787: Pull complete\n",
      "f7c8d350a671: Pull complete\n",
      "38e8d09dac12: Pull complete\n",
      "Digest: sha256:d58cf761a2feb319a287a8df5dca75eee3d4394f9d322e4ab53f00d1802392ee\n",
      "Status: Downloaded newer image for public.ecr.aws/lambda/python:3.8\n",
      " ---> 74729ea41e82\n",
      "Step 2/5 : COPY requirements.txt ./requirements.txt\n",
      " ---> 87b23aac33ec\n",
      "Step 3/5 : RUN pip install -r requirements.txt\n",
      " ---> Running in 1aa2f67ad91a\n",
      "Looking in links: https://download.pytorch.org/whl/torch_stable.html\n",
      "Collecting torch==1.7.1+cpu\n",
      "  Downloading https://download.pytorch.org/whl/cpu/torch-1.7.1%2Bcpu-cp38-cp38-linux_x86_64.whl (159.4 MB)\n",
      "Collecting transformers==4.9.2\n",
      "  Downloading transformers-4.9.2-py3-none-any.whl (2.6 MB)\n",
      "Collecting typing-extensions\n",
      "  Downloading typing_extensions-3.10.0.0-py3-none-any.whl (26 kB)\n",
      "Collecting numpy\n",
      "  Downloading numpy-1.21.2-cp38-cp38-manylinux_2_12_x86_64.manylinux2010_x86_64.whl (15.8 MB)\n",
      "Collecting huggingface-hub==0.0.12\n",
      "  Downloading huggingface_hub-0.0.12-py3-none-any.whl (37 kB)\n",
      "Collecting filelock\n",
      "  Downloading filelock-3.0.12-py3-none-any.whl (7.6 kB)\n",
      "Collecting regex!=2019.12.17\n",
      "  Downloading regex-2021.8.3-cp38-cp38-manylinux_2_17_x86_64.manylinux2014_x86_64.whl (738 kB)\n",
      "Collecting packaging\n",
      "  Downloading packaging-21.0-py3-none-any.whl (40 kB)\n",
      "Collecting tokenizers<0.11,>=0.10.1\n",
      "  Downloading tokenizers-0.10.3-cp38-cp38-manylinux_2_5_x86_64.manylinux1_x86_64.manylinux_2_12_x86_64.manylinux2010_x86_64.whl (3.3 MB)\n",
      "Collecting requests\n",
      "  Downloading requests-2.26.0-py2.py3-none-any.whl (62 kB)\n",
      "Collecting pyyaml>=5.1\n",
      "  Downloading PyYAML-5.4.1-cp38-cp38-manylinux1_x86_64.whl (662 kB)\n",
      "Collecting tqdm>=4.27\n",
      "  Downloading tqdm-4.62.1-py2.py3-none-any.whl (76 kB)\n",
      "Collecting sacremoses\n",
      "  Downloading sacremoses-0.0.45-py3-none-any.whl (895 kB)\n",
      "Collecting pyparsing>=2.0.2\n",
      "  Downloading pyparsing-2.4.7-py2.py3-none-any.whl (67 kB)\n",
      "Collecting urllib3<1.27,>=1.21.1\n",
      "  Downloading urllib3-1.26.6-py2.py3-none-any.whl (138 kB)\n",
      "Collecting charset-normalizer~=2.0.0\n",
      "  Downloading charset_normalizer-2.0.4-py3-none-any.whl (36 kB)\n",
      "Collecting certifi>=2017.4.17\n",
      "  Downloading certifi-2021.5.30-py2.py3-none-any.whl (145 kB)\n"
     ]
    },
    {
     "name": "stdout",
     "output_type": "stream",
     "text": [
      "Collecting idna<4,>=2.5\n",
      "  Downloading idna-3.2-py3-none-any.whl (59 kB)\n",
      "Collecting six\n",
      "  Downloading six-1.16.0-py2.py3-none-any.whl (11 kB)\n",
      "Collecting click\n",
      "  Downloading click-8.0.1-py3-none-any.whl (97 kB)\n",
      "Collecting joblib\n",
      "  Downloading joblib-1.0.1-py3-none-any.whl (303 kB)\n",
      "Installing collected packages: urllib3, pyparsing, idna, charset-normalizer, certifi, typing-extensions, tqdm, six, requests, regex, packaging, joblib, filelock, click, tokenizers, sacremoses, pyyaml, numpy, huggingface-hub, transformers, torch\n",
      "Successfully installed certifi-2021.5.30 charset-normalizer-2.0.4 click-8.0.1 filelock-3.0.12 huggingface-hub-0.0.12 idna-3.2 joblib-1.0.1 numpy-1.21.2 packaging-21.0 pyparsing-2.4.7 pyyaml-5.4.1 regex-2021.8.3 requests-2.26.0 sacremoses-0.0.45 six-1.16.0 tokenizers-0.10.3 torch-1.7.1+cpu tqdm-4.62.1 transformers-4.9.2 typing-extensions-3.10.0.0 urllib3-1.26.6\n",
      "\u001b[91mWARNING: Running pip as root will break packages and permissions. You should install packages reliably by using venv: https://pip.pypa.io/warnings/venv\n",
      "\u001b[0m\u001b[91mWARNING: You are using pip version 21.1.1; however, version 21.2.4 is available.\n",
      "You should consider upgrading via the '/var/lang/bin/python3.8 -m pip install --upgrade pip' command.\n",
      "\u001b[0mRemoving intermediate container 1aa2f67ad91a\n",
      " ---> 20684d528d21\n",
      "Step 4/5 : COPY ./app/app.py   ./\n",
      " ---> 024c48711058\n",
      "Step 5/5 : CMD [\"app.handler\"]\n",
      " ---> Running in 7b41e9cb995a\n",
      "Removing intermediate container 7b41e9cb995a\n",
      " ---> 53c7a036b511\n",
      "Successfully built 53c7a036b511\n",
      "Successfully tagged huggingface-on-lambda:1.0\n",
      "\n",
      "[Container] 2021/08/17 05:27:43 Running command docker tag $IMAGE_REPO_NAME:$IMAGE_TAG $AWS_ACCOUNT_ID.dkr.ecr.$AWS_DEFAULT_REGION.amazonaws.com/$IMAGE_REPO_NAME:$IMAGE_TAG\n",
      "\n",
      "[Container] 2021/08/17 05:27:43 Phase complete: BUILD State: SUCCEEDED\n",
      "[Container] 2021/08/17 05:27:43 Phase context status code:  Message:\n",
      "[Container] 2021/08/17 05:27:43 Entering phase POST_BUILD\n",
      "[Container] 2021/08/17 05:27:43 Running command echo Build completed on `date`\n",
      "Build completed on Tue Aug 17 05:27:43 UTC 2021\n",
      "\n",
      "[Container] 2021/08/17 05:27:43 Running command echo Pushing the Docker image...\n",
      "Pushing the Docker image...\n",
      "\n",
      "[Container] 2021/08/17 05:27:43 Running command docker push $AWS_ACCOUNT_ID.dkr.ecr.$AWS_DEFAULT_REGION.amazonaws.com/$IMAGE_REPO_NAME:$IMAGE_TAG\n",
      "The push refers to repository [077590795309.dkr.ecr.eu-west-1.amazonaws.com/huggingface-on-lambda]\n",
      "7552ee3933d6: Preparing\n",
      "6cd6caed4545: Preparing\n",
      "202f9565a5a6: Preparing\n",
      "6487adadb6f1: Preparing\n",
      "957f91fa4161: Preparing\n",
      "d6fa53d6caa6: Preparing\n",
      "bffc4759b929: Preparing\n",
      "a7258d5e8399: Preparing\n",
      "ca7925861799: Preparing\n",
      "d6fa53d6caa6: Waiting\n",
      "bffc4759b929: Waiting\n",
      "a7258d5e8399: Waiting\n",
      "ca7925861799: Waiting\n",
      "7552ee3933d6: Pushed\n",
      "202f9565a5a6: Pushed\n",
      "bffc4759b929: Pushed\n",
      "d6fa53d6caa6: Pushed\n",
      "a7258d5e8399: Pushed\n",
      "6487adadb6f1: Pushed\n",
      "957f91fa4161: Pushed\n",
      "ca7925861799: Pushed\n",
      "6cd6caed4545: Pushed\n",
      "1.0: digest: sha256:8759164fb525c94bf5c74cfc961053182ec0359513e244d654dbbbbf09c0a9d1 size: 2208\n",
      "\n",
      "[Container] 2021/08/17 05:28:36 Phase complete: POST_BUILD State: SUCCEEDED\n",
      "[Container] 2021/08/17 05:28:36 Phase context status code:  Message:\n",
      "\n",
      "Image URI: 077590795309.dkr.ecr.eu-west-1.amazonaws.com/huggingface-on-lambda:1.0\n"
     ]
    }
   ],
   "source": [
    "!sm-docker build . --repository huggingface-on-lambda:1.0"
   ]
  },
  {
   "cell_type": "code",
   "execution_count": null,
   "id": "c18ee3e1",
   "metadata": {},
   "outputs": [],
   "source": []
  }
 ],
 "metadata": {
  "kernelspec": {
   "display_name": "conda_pytorch_latest_p36",
   "language": "python",
   "name": "conda_pytorch_latest_p36"
  },
  "language_info": {
   "codemirror_mode": {
    "name": "ipython",
    "version": 3
   },
   "file_extension": ".py",
   "mimetype": "text/x-python",
   "name": "python",
   "nbconvert_exporter": "python",
   "pygments_lexer": "ipython3",
   "version": "3.6.13"
  }
 },
 "nbformat": 4,
 "nbformat_minor": 5
}
