{
 "cells": [
  {
   "cell_type": "markdown",
   "id": "b6f567bc",
   "metadata": {},
   "source": [
    "# Get Huggingface pretrained model"
   ]
  },
  {
   "cell_type": "code",
   "execution_count": 1,
   "id": "6489647e",
   "metadata": {},
   "outputs": [
    {
     "name": "stdout",
     "output_type": "stream",
     "text": [
      "\u001b[33mWARNING: You are using pip version 21.1.3; however, version 21.2.4 is available.\r\n",
      "You should consider upgrading via the '/home/ec2-user/anaconda3/envs/pytorch_latest_p36/bin/python -m pip install --upgrade pip' command.\u001b[0m\r\n"
     ]
    }
   ],
   "source": [
    "!pip install transformers --upgrade --quiet"
   ]
  },
  {
   "cell_type": "code",
   "execution_count": 2,
   "id": "5685775e",
   "metadata": {},
   "outputs": [],
   "source": [
    "import transformers\n",
    "import torch\n",
    "from transformers import pipeline"
   ]
  },
  {
   "cell_type": "markdown",
   "id": "112e13c5",
   "metadata": {},
   "source": [
    "## Get pretrained model and save it"
   ]
  },
  {
   "cell_type": "code",
   "execution_count": 3,
   "id": "7de30ba0",
   "metadata": {},
   "outputs": [
    {
     "data": {
      "application/vnd.jupyter.widget-view+json": {
       "model_id": "79973283525e440db2d4a40c3cab3cf7",
       "version_major": 2,
       "version_minor": 0
      },
      "text/plain": [
       "Downloading:   0%|          | 0.00/629 [00:00<?, ?B/s]"
      ]
     },
     "metadata": {},
     "output_type": "display_data"
    },
    {
     "data": {
      "application/vnd.jupyter.widget-view+json": {
       "model_id": "59d82fa803264de282a26182da393a47",
       "version_major": 2,
       "version_minor": 0
      },
      "text/plain": [
       "Downloading:   0%|          | 0.00/268M [00:00<?, ?B/s]"
      ]
     },
     "metadata": {},
     "output_type": "display_data"
    },
    {
     "data": {
      "application/vnd.jupyter.widget-view+json": {
       "model_id": "00d4d7d1cc5b43609a108ea99349c309",
       "version_major": 2,
       "version_minor": 0
      },
      "text/plain": [
       "Downloading:   0%|          | 0.00/48.0 [00:00<?, ?B/s]"
      ]
     },
     "metadata": {},
     "output_type": "display_data"
    },
    {
     "data": {
      "application/vnd.jupyter.widget-view+json": {
       "model_id": "9eda49595b144d98af557793321fad04",
       "version_major": 2,
       "version_minor": 0
      },
      "text/plain": [
       "Downloading:   0%|          | 0.00/232k [00:00<?, ?B/s]"
      ]
     },
     "metadata": {},
     "output_type": "display_data"
    }
   ],
   "source": [
    "pretrained_classifier = pipeline(\"sentiment-analysis\")"
   ]
  },
  {
   "cell_type": "code",
   "execution_count": 4,
   "id": "c2065f0a",
   "metadata": {},
   "outputs": [
    {
     "data": {
      "text/plain": [
       "[{'label': 'POSITIVE', 'score': 0.9998599290847778},\n",
       " {'label': 'NEGATIVE', 'score': 0.9997907280921936}]"
      ]
     },
     "execution_count": 4,
     "metadata": {},
     "output_type": "execute_result"
    }
   ],
   "source": [
    "pretrained_classifier([\n",
    "    \"I really like this place!\",\n",
    "    \"The food was bad!\"\n",
    "])"
   ]
  },
  {
   "cell_type": "code",
   "execution_count": 5,
   "id": "d52cb75e",
   "metadata": {},
   "outputs": [],
   "source": [
    "pretrained_classifier.save_pretrained(\"./model/\")"
   ]
  },
  {
   "cell_type": "markdown",
   "id": "c542640b",
   "metadata": {},
   "source": [
    "## Check if we can successfully load the saved model"
   ]
  },
  {
   "cell_type": "code",
   "execution_count": 6,
   "id": "b68c8aaf",
   "metadata": {},
   "outputs": [],
   "source": [
    "local_classifier = pipeline('sentiment-analysis', model=\"./model/\", tokenizer=\"./model/\")"
   ]
  },
  {
   "cell_type": "code",
   "execution_count": 7,
   "id": "2b820baf",
   "metadata": {},
   "outputs": [
    {
     "data": {
      "text/plain": [
       "[{'label': 'POSITIVE', 'score': 0.9998599290847778},\n",
       " {'label': 'NEGATIVE', 'score': 0.9997907280921936}]"
      ]
     },
     "execution_count": 7,
     "metadata": {},
     "output_type": "execute_result"
    }
   ],
   "source": [
    "local_classifier([\n",
    "    \"I really like this place!\",\n",
    "    \"The food was bad!\"\n",
    "])"
   ]
  },
  {
   "cell_type": "markdown",
   "id": "78ed14c6",
   "metadata": {},
   "source": [
    "## Build container for Lambda"
   ]
  },
  {
   "cell_type": "code",
   "execution_count": 8,
   "id": "f5d887e2",
   "metadata": {},
   "outputs": [
    {
     "name": "stdout",
     "output_type": "stream",
     "text": [
      "Python 3.6.13\n",
      "Torch version 1.7.1\n",
      "Transformers version 4.9.2\n"
     ]
    }
   ],
   "source": [
    "!python --version\n",
    "print(f\"Torch version {torch.__version__}\")\n",
    "print(f\"Transformers version {transformers.__version__}\")"
   ]
  },
  {
   "cell_type": "code",
   "execution_count": 9,
   "id": "23028ad4",
   "metadata": {},
   "outputs": [],
   "source": [
    "!pip freeze > requirements.txt"
   ]
  },
  {
   "cell_type": "code",
   "execution_count": 10,
   "id": "20e92e3d",
   "metadata": {},
   "outputs": [
    {
     "name": "stdout",
     "output_type": "stream",
     "text": [
      "Overwriting requirements.txt\n"
     ]
    }
   ],
   "source": [
    "%%writefile requirements.txt\n",
    "--find-links  https://download.pytorch.org/whl/torch_stable.html \n",
    " \n",
    "torch==1.7.1+cpu\n",
    "transformers==4.9.2"
   ]
  },
  {
   "cell_type": "markdown",
   "id": "3cdd5da9",
   "metadata": {},
   "source": [
    "### Get a base image for huggingface and pytorch"
   ]
  },
  {
   "cell_type": "code",
   "execution_count": 11,
   "id": "76610c9f",
   "metadata": {},
   "outputs": [],
   "source": [
    "# from sagemaker.huggingface import HuggingFaceModel\n",
    "# from sagemaker import get_execution_role\n",
    "# import boto3"
   ]
  },
  {
   "cell_type": "code",
   "execution_count": 12,
   "id": "4429b673",
   "metadata": {},
   "outputs": [],
   "source": [
    "# hub = {\n",
    "# #   'HF_MODEL_ID':'distilbert-base-uncased-distilled-squad',\n",
    "#   'HF_TASK':'\"sentiment-analysis\"'\n",
    "# }\n",
    "# # create Hugging Face Model Class\n",
    "# huggingface_model = HuggingFaceModel(\n",
    "#     transformers_version='4.9',\n",
    "#     pytorch_version='1.7',\n",
    "#     py_version='py36',\n",
    "#     env=hub,\n",
    "#     role=get_execution_role(),\n",
    "# )"
   ]
  },
  {
   "cell_type": "code",
   "execution_count": 13,
   "id": "26e619f0",
   "metadata": {},
   "outputs": [],
   "source": [
    "# boto3_session = boto3.session.Session()\n",
    "# current_region = boto3_session.region_name\n",
    "# base_image = huggingface_model.serving_image_uri(current_region, instance_type=\"ml.c5.medium\")\n",
    "# base_image"
   ]
  },
  {
   "cell_type": "markdown",
   "id": "9d3f2a81",
   "metadata": {},
   "source": [
    "### Write dockerfile"
   ]
  },
  {
   "cell_type": "markdown",
   "id": "211e92af",
   "metadata": {},
   "source": [
    "https://docs.aws.amazon.com/lambda/latest/dg/images-create.html"
   ]
  },
  {
   "cell_type": "code",
   "execution_count": 14,
   "id": "dc47512c",
   "metadata": {},
   "outputs": [
    {
     "name": "stdout",
     "output_type": "stream",
     "text": [
      "Overwriting Dockerfile\n"
     ]
    }
   ],
   "source": [
    "%%writefile Dockerfile\n",
    "FROM public.ecr.aws/lambda/python:3.8\n",
    "\n",
    "COPY requirements.txt ./requirements.txt\n",
    "RUN pip install -r requirements.txt \n",
    "\n",
    "COPY ./app/app.py   ./\n",
    "CMD [\"app.handler\"]"
   ]
  },
  {
   "cell_type": "code",
   "execution_count": 15,
   "id": "cad20dc8",
   "metadata": {},
   "outputs": [],
   "source": [
    "# !sudo chown -R $USER ."
   ]
  },
  {
   "cell_type": "code",
   "execution_count": 16,
   "id": "f305a018",
   "metadata": {},
   "outputs": [],
   "source": [
    "# !docker build -f Dockerfile ."
   ]
  },
  {
   "cell_type": "markdown",
   "id": "b431cb99",
   "metadata": {},
   "source": [
    "## Build dockerfile in codebuild and push to ECR"
   ]
  },
  {
   "cell_type": "code",
   "execution_count": 17,
   "id": "e29d7c83",
   "metadata": {},
   "outputs": [
    {
     "name": "stdout",
     "output_type": "stream",
     "text": [
      "\u001b[33mWARNING: You are using pip version 21.1.3; however, version 21.2.4 is available.\r\n",
      "You should consider upgrading via the '/home/ec2-user/anaconda3/envs/pytorch_latest_p36/bin/python -m pip install --upgrade pip' command.\u001b[0m\r\n"
     ]
    }
   ],
   "source": [
    "!pip install sagemaker-studio-image-build --quiet"
   ]
  },
  {
   "cell_type": "markdown",
   "id": "3348438f",
   "metadata": {},
   "source": [
    "make sure this role has a trust relationship with codebuild\n",
    "\n",
    "https://github.com/aws-samples/sagemaker-studio-image-build-cli"
   ]
  },
  {
   "cell_type": "code",
   "execution_count": 18,
   "id": "89d7ad73",
   "metadata": {},
   "outputs": [
    {
     "name": "stdout",
     "output_type": "stream",
     "text": [
      "...[Container] 2021/08/20 07:23:11 Waiting for agent ping\n",
      "\n",
      "[Container] 2021/08/20 07:23:14 Waiting for DOWNLOAD_SOURCE\n",
      "[Container] 2021/08/20 07:23:17 Phase is DOWNLOAD_SOURCE\n",
      "[Container] 2021/08/20 07:23:17 CODEBUILD_SRC_DIR=/codebuild/output/src118816575/src\n",
      "[Container] 2021/08/20 07:23:17 YAML location is /codebuild/output/src118816575/src/buildspec.yml\n",
      "[Container] 2021/08/20 07:23:17 Processing environment variables\n",
      "[Container] 2021/08/20 07:23:17 No runtime version selected in buildspec.\n",
      "[Container] 2021/08/20 07:23:17 Moving to directory /codebuild/output/src118816575/src\n",
      "[Container] 2021/08/20 07:23:17 Registering with agent\n",
      "[Container] 2021/08/20 07:23:17 Phases found in YAML: 3\n",
      "[Container] 2021/08/20 07:23:17  PRE_BUILD: 9 commands\n",
      "[Container] 2021/08/20 07:23:17  BUILD: 4 commands\n",
      "[Container] 2021/08/20 07:23:17  POST_BUILD: 3 commands\n",
      "[Container] 2021/08/20 07:23:17 Phase complete: DOWNLOAD_SOURCE State: SUCCEEDED\n",
      "[Container] 2021/08/20 07:23:17 Phase context status code:  Message:\n",
      "[Container] 2021/08/20 07:23:18 Entering phase INSTALL\n",
      "[Container] 2021/08/20 07:23:18 Phase complete: INSTALL State: SUCCEEDED\n",
      "[Container] 2021/08/20 07:23:18 Phase context status code:  Message:\n",
      "[Container] 2021/08/20 07:23:18 Entering phase PRE_BUILD\n",
      "[Container] 2021/08/20 07:23:18 Running command echo Logging in to Amazon ECR...\n",
      "Logging in to Amazon ECR...\n",
      "\n",
      "[Container] 2021/08/20 07:23:18 Running command $(aws ecr get-login --no-include-email --region $AWS_DEFAULT_REGION)\n",
      "WARNING! Using --password via the CLI is insecure. Use --password-stdin.\n",
      "WARNING! Your password will be stored unencrypted in /root/.docker/config.json.\n",
      "Configure a credential helper to remove this warning. See\n",
      "https://docs.docker.com/engine/reference/commandline/login/#credentials-store\n",
      "\n",
      "Login Succeeded\n",
      "\n",
      "[Container] 2021/08/20 07:23:23 Running command $(aws ecr get-login --no-include-email --region $AWS_DEFAULT_REGION --registry-ids 763104351884)\n",
      "WARNING! Using --password via the CLI is insecure. Use --password-stdin.\n",
      "WARNING! Your password will be stored unencrypted in /root/.docker/config.json.\n",
      "Configure a credential helper to remove this warning. See\n",
      "https://docs.docker.com/engine/reference/commandline/login/#credentials-store\n",
      "\n",
      "Login Succeeded\n",
      "\n",
      "[Container] 2021/08/20 07:23:24 Running command $(aws ecr get-login --no-include-email --region $AWS_DEFAULT_REGION --registry-ids 217643126080)\n",
      "WARNING! Using --password via the CLI is insecure. Use --password-stdin.\n",
      "WARNING! Your password will be stored unencrypted in /root/.docker/config.json.\n",
      "Configure a credential helper to remove this warning. See\n",
      "https://docs.docker.com/engine/reference/commandline/login/#credentials-store\n",
      "\n",
      "Login Succeeded\n",
      "\n",
      "[Container] 2021/08/20 07:23:24 Running command $(aws ecr get-login --no-include-email --region $AWS_DEFAULT_REGION --registry-ids 727897471807)\n",
      "WARNING! Using --password via the CLI is insecure. Use --password-stdin.\n",
      "WARNING! Your password will be stored unencrypted in /root/.docker/config.json.\n",
      "Configure a credential helper to remove this warning. See\n",
      "https://docs.docker.com/engine/reference/commandline/login/#credentials-store\n",
      "\n",
      "Login Succeeded\n",
      "\n",
      "[Container] 2021/08/20 07:23:25 Running command $(aws ecr get-login --no-include-email --region $AWS_DEFAULT_REGION --registry-ids 626614931356)\n",
      "WARNING! Using --password via the CLI is insecure. Use --password-stdin.\n",
      "WARNING! Your password will be stored unencrypted in /root/.docker/config.json.\n",
      "Configure a credential helper to remove this warning. See\n",
      "https://docs.docker.com/engine/reference/commandline/login/#credentials-store\n",
      "\n",
      "Login Succeeded\n",
      "\n",
      "[Container] 2021/08/20 07:23:26 Running command $(aws ecr get-login --no-include-email --region $AWS_DEFAULT_REGION --registry-ids 683313688378)\n",
      "WARNING! Using --password via the CLI is insecure. Use --password-stdin.\n",
      "WARNING! Your password will be stored unencrypted in /root/.docker/config.json.\n",
      "Configure a credential helper to remove this warning. See\n",
      "https://docs.docker.com/engine/reference/commandline/login/#credentials-store\n",
      "\n",
      "Login Succeeded\n",
      "\n",
      "[Container] 2021/08/20 07:23:26 Running command $(aws ecr get-login --no-include-email --region $AWS_DEFAULT_REGION --registry-ids 520713654638)\n",
      "WARNING! Using --password via the CLI is insecure. Use --password-stdin.\n",
      "WARNING! Your password will be stored unencrypted in /root/.docker/config.json.\n",
      "Configure a credential helper to remove this warning. See\n",
      "https://docs.docker.com/engine/reference/commandline/login/#credentials-store\n",
      "\n",
      "Login Succeeded\n",
      "\n",
      "[Container] 2021/08/20 07:23:27 Running command $(aws ecr get-login --no-include-email --region $AWS_DEFAULT_REGION --registry-ids 462105765813)\n",
      "WARNING! Using --password via the CLI is insecure. Use --password-stdin.\n",
      "WARNING! Your password will be stored unencrypted in /root/.docker/config.json.\n",
      "Configure a credential helper to remove this warning. See\n",
      "https://docs.docker.com/engine/reference/commandline/login/#credentials-store\n",
      "\n",
      "Login Succeeded\n",
      "\n",
      "[Container] 2021/08/20 07:23:27 Phase complete: PRE_BUILD State: SUCCEEDED\n",
      "[Container] 2021/08/20 07:23:27 Phase context status code:  Message:\n",
      "[Container] 2021/08/20 07:23:27 Entering phase BUILD\n",
      "[Container] 2021/08/20 07:23:27 Running command echo Build started on `date`\n",
      "Build started on Fri Aug 20 07:23:27 UTC 2021\n",
      "\n",
      "[Container] 2021/08/20 07:23:27 Running command echo Building the Docker image...\n",
      "Building the Docker image...\n",
      "\n",
      "[Container] 2021/08/20 07:23:27 Running command docker build -t $IMAGE_REPO_NAME:$IMAGE_TAG .\n",
      "Sending build context to Docker daemon  268.8MB\n",
      "Step 1/5 : FROM public.ecr.aws/lambda/python:3.8\n",
      "3.8: Pulling from lambda/python\n",
      "e6bcf8dfcded: Pulling fs layer\n",
      "fee9505e0913: Pulling fs layer\n",
      "8854fbb19250: Pulling fs layer\n",
      "bb2e44738d79: Pulling fs layer\n",
      "a6c9edbd2f2b: Pulling fs layer\n",
      "2c39357de388: Pulling fs layer\n",
      "bb2e44738d79: Waiting\n",
      "a6c9edbd2f2b: Waiting\n",
      "2c39357de388: Waiting\n",
      "8854fbb19250: Download complete\n",
      "bb2e44738d79: Verifying Checksum\n",
      "bb2e44738d79: Download complete\n",
      "fee9505e0913: Download complete\n",
      "2c39357de388: Verifying Checksum\n",
      "2c39357de388: Download complete\n",
      "e6bcf8dfcded: Download complete\n",
      "a6c9edbd2f2b: Verifying Checksum\n",
      "a6c9edbd2f2b: Download complete\n",
      "e6bcf8dfcded: Pull complete\n",
      "fee9505e0913: Pull complete\n",
      "8854fbb19250: Pull complete\n",
      "bb2e44738d79: Pull complete\n",
      "a6c9edbd2f2b: Pull complete\n",
      "2c39357de388: Pull complete\n",
      "Digest: sha256:94523267dc298b5e79f3e65519e69bf47f16a269513b9ec12a0af1dba1d6b4f9\n",
      "Status: Downloaded newer image for public.ecr.aws/lambda/python:3.8\n",
      " ---> a9b6ac07b7e3\n",
      "Step 2/5 : COPY requirements.txt ./requirements.txt\n",
      " ---> 6990f411ac35\n",
      "Step 3/5 : RUN pip install -r requirements.txt\n",
      " ---> Running in 2edb23706805\n",
      "Looking in links: https://download.pytorch.org/whl/torch_stable.html\n",
      "Collecting torch==1.7.1+cpu\n",
      "  Downloading https://download.pytorch.org/whl/cpu/torch-1.7.1%2Bcpu-cp38-cp38-linux_x86_64.whl (159.4 MB)\n",
      "Collecting transformers==4.9.2\n",
      "  Downloading transformers-4.9.2-py3-none-any.whl (2.6 MB)\n",
      "Collecting typing-extensions\n",
      "  Downloading typing_extensions-3.10.0.0-py3-none-any.whl (26 kB)\n",
      "Collecting numpy\n",
      "  Downloading numpy-1.21.2-cp38-cp38-manylinux_2_12_x86_64.manylinux2010_x86_64.whl (15.8 MB)\n",
      "Collecting packaging\n",
      "  Downloading packaging-21.0-py3-none-any.whl (40 kB)\n",
      "Collecting filelock\n",
      "  Downloading filelock-3.0.12-py3-none-any.whl (7.6 kB)\n",
      "Collecting tokenizers<0.11,>=0.10.1\n",
      "  Downloading tokenizers-0.10.3-cp38-cp38-manylinux_2_5_x86_64.manylinux1_x86_64.manylinux_2_12_x86_64.manylinux2010_x86_64.whl (3.3 MB)\n",
      "Collecting tqdm>=4.27\n",
      "  Downloading tqdm-4.62.1-py2.py3-none-any.whl (76 kB)\n",
      "Collecting regex!=2019.12.17\n",
      "  Downloading regex-2021.8.3-cp38-cp38-manylinux_2_17_x86_64.manylinux2014_x86_64.whl (738 kB)\n",
      "Collecting requests\n",
      "  Downloading requests-2.26.0-py2.py3-none-any.whl (62 kB)\n",
      "Collecting pyyaml>=5.1\n",
      "  Downloading PyYAML-5.4.1-cp38-cp38-manylinux1_x86_64.whl (662 kB)\n",
      "Collecting huggingface-hub==0.0.12\n",
      "  Downloading huggingface_hub-0.0.12-py3-none-any.whl (37 kB)\n",
      "Collecting sacremoses\n",
      "  Downloading sacremoses-0.0.45-py3-none-any.whl (895 kB)\n",
      "Collecting pyparsing>=2.0.2\n",
      "  Downloading pyparsing-2.4.7-py2.py3-none-any.whl (67 kB)\n",
      "Collecting idna<4,>=2.5\n",
      "  Downloading idna-3.2-py3-none-any.whl (59 kB)\n",
      "Collecting certifi>=2017.4.17\n",
      "  Downloading certifi-2021.5.30-py2.py3-none-any.whl (145 kB)\n",
      "Collecting urllib3<1.27,>=1.21.1\n",
      "  Downloading urllib3-1.26.6-py2.py3-none-any.whl (138 kB)\n",
      "Collecting charset-normalizer~=2.0.0\n",
      "  Downloading charset_normalizer-2.0.4-py3-none-any.whl (36 kB)\n",
      "Collecting six\n",
      "  Downloading six-1.16.0-py2.py3-none-any.whl (11 kB)\n",
      "Collecting joblib\n",
      "  Downloading joblib-1.0.1-py3-none-any.whl (303 kB)\n"
     ]
    },
    {
     "name": "stdout",
     "output_type": "stream",
     "text": [
      "Collecting click\n",
      "  Downloading click-8.0.1-py3-none-any.whl (97 kB)\n",
      "Installing collected packages: urllib3, pyparsing, idna, charset-normalizer, certifi, typing-extensions, tqdm, six, requests, regex, packaging, joblib, filelock, click, tokenizers, sacremoses, pyyaml, numpy, huggingface-hub, transformers, torch\n",
      "Successfully installed certifi-2021.5.30 charset-normalizer-2.0.4 click-8.0.1 filelock-3.0.12 huggingface-hub-0.0.12 idna-3.2 joblib-1.0.1 numpy-1.21.2 packaging-21.0 pyparsing-2.4.7 pyyaml-5.4.1 regex-2021.8.3 requests-2.26.0 sacremoses-0.0.45 six-1.16.0 tokenizers-0.10.3 torch-1.7.1+cpu tqdm-4.62.1 transformers-4.9.2 typing-extensions-3.10.0.0 urllib3-1.26.6\n",
      "\u001b[91mWARNING: Running pip as root will break packages and permissions. You should install packages reliably by using venv: https://pip.pypa.io/warnings/venv\n",
      "\u001b[0m\u001b[91mWARNING: You are using pip version 21.1.1; however, version 21.2.4 is available.\n",
      "You should consider upgrading via the '/var/lang/bin/python3.8 -m pip install --upgrade pip' command.\n",
      "\u001b[0mRemoving intermediate container 2edb23706805\n",
      " ---> db02a276579f\n",
      "Step 4/5 : COPY ./app/app.py   ./\n",
      " ---> 6198e98a12e7\n",
      "Step 5/5 : CMD [\"app.handler\"]\n",
      " ---> Running in 4114fc7c41c1\n",
      "Removing intermediate container 4114fc7c41c1\n",
      " ---> 1c7e7c6064c2\n",
      "Successfully built 1c7e7c6064c2\n",
      "Successfully tagged huggingface-on-lambda:1.0\n",
      "\n",
      "[Container] 2021/08/20 07:24:34 Running command docker tag $IMAGE_REPO_NAME:$IMAGE_TAG $AWS_ACCOUNT_ID.dkr.ecr.$AWS_DEFAULT_REGION.amazonaws.com/$IMAGE_REPO_NAME:$IMAGE_TAG\n",
      "\n",
      "[Container] 2021/08/20 07:24:34 Phase complete: BUILD State: SUCCEEDED\n",
      "[Container] 2021/08/20 07:24:34 Phase context status code:  Message:\n",
      "[Container] 2021/08/20 07:24:34 Entering phase POST_BUILD\n",
      "[Container] 2021/08/20 07:24:34 Running command echo Build completed on `date`\n",
      "Build completed on Fri Aug 20 07:24:34 UTC 2021\n",
      "\n",
      "[Container] 2021/08/20 07:24:34 Running command echo Pushing the Docker image...\n",
      "Pushing the Docker image...\n",
      "\n",
      "[Container] 2021/08/20 07:24:34 Running command docker push $AWS_ACCOUNT_ID.dkr.ecr.$AWS_DEFAULT_REGION.amazonaws.com/$IMAGE_REPO_NAME:$IMAGE_TAG\n",
      "The push refers to repository [077590795309.dkr.ecr.eu-west-1.amazonaws.com/huggingface-on-lambda]\n",
      "b4c5d72d71f9: Preparing\n",
      "85e3b8bbad05: Preparing\n",
      "609a812ff9f8: Preparing\n",
      "cdec68db6f31: Preparing\n",
      "58ff673bb431: Preparing\n",
      "f6ae2f36d5d7: Preparing\n",
      "e606998770ba: Preparing\n",
      "e04cc1a53c45: Preparing\n",
      "35e2a1be67d7: Preparing\n",
      "f6ae2f36d5d7: Waiting\n",
      "e606998770ba: Waiting\n",
      "e04cc1a53c45: Waiting\n",
      "35e2a1be67d7: Waiting\n",
      "b4c5d72d71f9: Pushed\n",
      "609a812ff9f8: Pushed\n",
      "e606998770ba: Pushed\n",
      "e04cc1a53c45: Pushed\n",
      "f6ae2f36d5d7: Pushed\n",
      "cdec68db6f31: Pushed\n",
      "58ff673bb431: Pushed\n",
      "35e2a1be67d7: Pushed\n",
      "\n",
      "85e3b8bbad05: Pushed\n",
      "1.0: digest: sha256:af502889a2e227900cd62081e8df9995feaec81f7dfa1de5955f991d13bba7a5 size: 2208\n",
      "\n",
      "[Container] 2021/08/20 07:25:25 Phase complete: POST_BUILD State: SUCCEEDED\n",
      "[Container] 2021/08/20 07:25:25 Phase context status code:  Message:\n",
      "Image URI: 077590795309.dkr.ecr.eu-west-1.amazonaws.com/huggingface-on-lambda:1.0\n"
     ]
    }
   ],
   "source": [
    "!sm-docker build . --repository huggingface-on-lambda:1.0"
   ]
  },
  {
   "cell_type": "markdown",
   "id": "36c5a41e",
   "metadata": {},
   "source": [
    "## Deploy Container within a Lambda Function"
   ]
  },
  {
   "cell_type": "markdown",
   "id": "3e3c713d",
   "metadata": {},
   "source": [
    "create a serverless.yml file that points to the docker container and expects a POST request on the path \"prediction/\""
   ]
  },
  {
   "cell_type": "code",
   "execution_count": 11,
   "id": "fd37fad0",
   "metadata": {},
   "outputs": [
    {
     "name": "stdout",
     "output_type": "stream",
     "text": [
      "Overwriting serverless.yml\n"
     ]
    }
   ],
   "source": [
    "%%writefile serverless.yml\n",
    "service: huggingface-on-lambda\n",
    "\n",
    "provider:\n",
    "  name: aws\n",
    "  region: eu-west-1 \n",
    "  memorySize: 1024 \n",
    "  timeout: 30 \n",
    "\n",
    "functions:\n",
    "  huggingface:\n",
    "    # paste the <image-uri>@<image-digest>\n",
    "    image: 077590795309.dkr.ecr.eu-west-1.amazonaws.com/huggingface-on-lambda@sha256:8759164fb525c94bf5c74cfc961053182ec0359513e244d654dbbbbf09c0a9d1\n",
    "    events:\n",
    "      - http:\n",
    "          path: prediction # http path\n",
    "          method: post # http method\n",
    "\n"
   ]
  },
  {
   "cell_type": "markdown",
   "id": "39f53c31",
   "metadata": {},
   "source": [
    "open an AWS cloudshell and install the serverless framework"
   ]
  },
  {
   "cell_type": "markdown",
   "id": "c0dedc67",
   "metadata": {},
   "source": [
    "    npm install serverless"
   ]
  },
  {
   "cell_type": "markdown",
   "id": "ada24486",
   "metadata": {},
   "source": [
    "create the serverless.yml file in the cloudshell\n",
    "    \n",
    "    cat > serverless.yml\n",
    "\n",
    "paste the contents and press ctrl + c to close and save the file.\n",
    "To deploy the stack run\n",
    "\n",
    "    serverless deploy"
   ]
  },
  {
   "cell_type": "code",
   "execution_count": null,
   "id": "9d9c0041",
   "metadata": {},
   "outputs": [],
   "source": []
  }
 ],
 "metadata": {
  "kernelspec": {
   "display_name": "conda_pytorch_latest_p36",
   "language": "python",
   "name": "conda_pytorch_latest_p36"
  },
  "language_info": {
   "codemirror_mode": {
    "name": "ipython",
    "version": 3
   },
   "file_extension": ".py",
   "mimetype": "text/x-python",
   "name": "python",
   "nbconvert_exporter": "python",
   "pygments_lexer": "ipython3",
   "version": "3.6.13"
  }
 },
 "nbformat": 4,
 "nbformat_minor": 5
}
