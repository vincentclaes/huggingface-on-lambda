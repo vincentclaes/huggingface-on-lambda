{
 "cells": [
  {
   "cell_type": "markdown",
   "id": "a94c398e",
   "metadata": {},
   "source": [
    "# Get Huggingface pretrained model"
   ]
  },
  {
   "cell_type": "code",
   "execution_count": 10,
   "id": "5d8794b7",
   "metadata": {},
   "outputs": [
    {
     "name": "stdout",
     "output_type": "stream",
     "text": [
      "\u001b[33mWARNING: You are using pip version 21.1.3; however, version 21.2.4 is available.\r\n",
      "You should consider upgrading via the '/home/ec2-user/anaconda3/envs/pytorch_latest_p36/bin/python -m pip install --upgrade pip' command.\u001b[0m\r\n"
     ]
    }
   ],
   "source": [
    "!pip install transformers --upgrade --quiet"
   ]
  },
  {
   "cell_type": "code",
   "execution_count": 11,
   "id": "8a1f2c90",
   "metadata": {},
   "outputs": [],
   "source": [
    "import transformers\n",
    "import torch\n",
    "from transformers import pipeline"
   ]
  },
  {
   "cell_type": "markdown",
   "id": "6b7665be",
   "metadata": {},
   "source": [
    "## Get pretrained model, test and save it"
   ]
  },
  {
   "cell_type": "code",
   "execution_count": 12,
   "id": "739437a6",
   "metadata": {},
   "outputs": [
    {
     "data": {
      "application/vnd.jupyter.widget-view+json": {
       "model_id": "2884001c56c047fb90a98cbced3b5c4b",
       "version_major": 2,
       "version_minor": 0
      },
      "text/plain": [
       "Downloading:   0%|          | 0.00/629 [00:00<?, ?B/s]"
      ]
     },
     "metadata": {},
     "output_type": "display_data"
    },
    {
     "data": {
      "application/vnd.jupyter.widget-view+json": {
       "model_id": "c17769852e83462d8e70a3889b2524c1",
       "version_major": 2,
       "version_minor": 0
      },
      "text/plain": [
       "Downloading:   0%|          | 0.00/268M [00:00<?, ?B/s]"
      ]
     },
     "metadata": {},
     "output_type": "display_data"
    },
    {
     "data": {
      "application/vnd.jupyter.widget-view+json": {
       "model_id": "26a3e8829a3340a4b8df5118b230e228",
       "version_major": 2,
       "version_minor": 0
      },
      "text/plain": [
       "Downloading:   0%|          | 0.00/48.0 [00:00<?, ?B/s]"
      ]
     },
     "metadata": {},
     "output_type": "display_data"
    },
    {
     "data": {
      "application/vnd.jupyter.widget-view+json": {
       "model_id": "124a9a9881a549688772218c79c8602c",
       "version_major": 2,
       "version_minor": 0
      },
      "text/plain": [
       "Downloading:   0%|          | 0.00/232k [00:00<?, ?B/s]"
      ]
     },
     "metadata": {},
     "output_type": "display_data"
    }
   ],
   "source": [
    "pretrained_classifier = pipeline(\"sentiment-analysis\")"
   ]
  },
  {
   "cell_type": "code",
   "execution_count": 13,
   "id": "c0dd40eb",
   "metadata": {},
   "outputs": [
    {
     "data": {
      "text/plain": [
       "[{'label': 'POSITIVE', 'score': 0.9998599290847778},\n",
       " {'label': 'NEGATIVE', 'score': 0.9997907280921936}]"
      ]
     },
     "execution_count": 13,
     "metadata": {},
     "output_type": "execute_result"
    }
   ],
   "source": [
    "pretrained_classifier([\n",
    "    \"I really like this place!\",\n",
    "    \"The food was bad!\"\n",
    "])"
   ]
  },
  {
   "cell_type": "code",
   "execution_count": 14,
   "id": "4fecd119",
   "metadata": {},
   "outputs": [],
   "source": [
    "pretrained_classifier.save_pretrained(\"./model/\")"
   ]
  },
  {
   "cell_type": "markdown",
   "id": "e3925fc0",
   "metadata": {},
   "source": [
    "## Check if we can successfully load our saved model"
   ]
  },
  {
   "cell_type": "code",
   "execution_count": 15,
   "id": "832adafc",
   "metadata": {},
   "outputs": [],
   "source": [
    "local_classifier = pipeline('sentiment-analysis', model=\"./model/\", tokenizer=\"./model/\")"
   ]
  },
  {
   "cell_type": "code",
   "execution_count": 16,
   "id": "b167a265",
   "metadata": {},
   "outputs": [
    {
     "data": {
      "text/plain": [
       "[{'label': 'POSITIVE', 'score': 0.9998599290847778},\n",
       " {'label': 'NEGATIVE', 'score': 0.9997907280921936}]"
      ]
     },
     "execution_count": 16,
     "metadata": {},
     "output_type": "execute_result"
    }
   ],
   "source": [
    "local_classifier([\n",
    "    \"I really like this place!\",\n",
    "    \"The food was bad!\"\n",
    "])"
   ]
  },
  {
   "cell_type": "markdown",
   "id": "319f977f",
   "metadata": {},
   "source": [
    "ok this works!"
   ]
  },
  {
   "cell_type": "markdown",
   "id": "4ff43615",
   "metadata": {},
   "source": [
    "## Build container for Lambda"
   ]
  },
  {
   "cell_type": "markdown",
   "id": "e2500732",
   "metadata": {},
   "source": [
    "Let's build a container that holds our huggingface model \n",
    "and our lambda code that handles requests and forwards the data to our huggingface model."
   ]
  },
  {
   "cell_type": "code",
   "execution_count": 18,
   "id": "3be8179e",
   "metadata": {},
   "outputs": [
    {
     "name": "stdout",
     "output_type": "stream",
     "text": [
      "look at the versions for our dependencies:\n",
      "\n",
      "Python 3.6.13\n",
      "Torch version 1.7.1\n",
      "Transformers version 4.9.2\n"
     ]
    }
   ],
   "source": [
    "print(\"look at the versions for our dependencies:\")\n",
    "print(\"\")\n",
    "!python --version\n",
    "print(f\"Torch version {torch.__version__}\")\n",
    "print(f\"Transformers version {transformers.__version__}\")"
   ]
  },
  {
   "cell_type": "markdown",
   "id": "bac1b358",
   "metadata": {},
   "source": [
    "### Create requirements.txt with dependencies"
   ]
  },
  {
   "cell_type": "code",
   "execution_count": 20,
   "id": "f1436a22",
   "metadata": {},
   "outputs": [
    {
     "name": "stdout",
     "output_type": "stream",
     "text": [
      "Overwriting requirements.txt\n"
     ]
    }
   ],
   "source": [
    "%%writefile requirements.txt\n",
    "--find-links  https://download.pytorch.org/whl/torch_stable.html \n",
    " \n",
    "torch==1.7.1+cpu\n",
    "transformers==4.9.2"
   ]
  },
  {
   "cell_type": "markdown",
   "id": "30845ea1",
   "metadata": {},
   "source": [
    "### Create dockerfile\n",
    "https://docs.aws.amazon.com/lambda/latest/dg/images-create.html\n",
    "\n",
    "- start from the official lambda docker container.\n",
    "- copy the requirements.txt to the docker container and isntall.\n",
    "- copy our model we saved locally in the model/ folder to the docker container\n",
    "- execcute the lambda handler function on start"
   ]
  },
  {
   "cell_type": "code",
   "execution_count": 21,
   "id": "8c921e1b",
   "metadata": {},
   "outputs": [
    {
     "name": "stdout",
     "output_type": "stream",
     "text": [
      "Overwriting Dockerfile\n"
     ]
    }
   ],
   "source": [
    "%%writefile Dockerfile\n",
    "FROM public.ecr.aws/lambda/python:3.8\n",
    "\n",
    "COPY requirements.txt ./requirements.txt\n",
    "RUN pip install -r requirements.txt \n",
    "\n",
    "COPY ./model/   ./model/\n",
    "COPY ./app/app.py   ./\n",
    "CMD [\"app.handler\"]"
   ]
  },
  {
   "cell_type": "markdown",
   "id": "120f7358",
   "metadata": {},
   "source": [
    "### Build dockerfile and push to ECR"
   ]
  },
  {
   "cell_type": "code",
   "execution_count": 22,
   "id": "1f3668e3",
   "metadata": {},
   "outputs": [
    {
     "name": "stdout",
     "output_type": "stream",
     "text": [
      "\u001b[33mWARNING: You are using pip version 21.1.3; however, version 21.2.4 is available.\r\n",
      "You should consider upgrading via the '/home/ec2-user/anaconda3/envs/pytorch_latest_p36/bin/python -m pip install --upgrade pip' command.\u001b[0m\r\n"
     ]
    }
   ],
   "source": [
    "!pip install sagemaker-studio-image-build --quiet"
   ]
  },
  {
   "cell_type": "markdown",
   "id": "ba30f1fb",
   "metadata": {},
   "source": [
    "make sure this role has a trust relationship with codebuild\n",
    "\n",
    "https://github.com/aws-samples/sagemaker-studio-image-build-cli"
   ]
  },
  {
   "cell_type": "code",
   "execution_count": null,
   "id": "04dcfc16",
   "metadata": {},
   "outputs": [
    {
     "name": "stdout",
     "output_type": "stream",
     "text": [
      "...[Container] 2021/08/21 07:29:27 Waiting for agent ping\n",
      "\n",
      "[Container] 2021/08/21 07:29:30 Waiting for DOWNLOAD_SOURCE\n",
      "[Container] 2021/08/21 07:29:33 Phase is DOWNLOAD_SOURCE\n",
      "[Container] 2021/08/21 07:29:33 CODEBUILD_SRC_DIR=/codebuild/output/src864854616/src\n",
      "[Container] 2021/08/21 07:29:33 YAML location is /codebuild/output/src864854616/src/buildspec.yml\n",
      "[Container] 2021/08/21 07:29:33 Processing environment variables\n",
      "[Container] 2021/08/21 07:29:34 No runtime version selected in buildspec.\n",
      "[Container] 2021/08/21 07:29:34 Moving to directory /codebuild/output/src864854616/src\n",
      "[Container] 2021/08/21 07:29:34 Registering with agent\n",
      "[Container] 2021/08/21 07:29:34 Phases found in YAML: 3\n",
      "[Container] 2021/08/21 07:29:34  PRE_BUILD: 9 commands\n",
      "[Container] 2021/08/21 07:29:34  BUILD: 4 commands\n",
      "[Container] 2021/08/21 07:29:34  POST_BUILD: 3 commands\n",
      "[Container] 2021/08/21 07:29:34 Phase complete: DOWNLOAD_SOURCE State: SUCCEEDED\n",
      "[Container] 2021/08/21 07:29:34 Phase context status code:  Message:\n",
      "[Container] 2021/08/21 07:29:34 Entering phase INSTALL\n",
      "[Container] 2021/08/21 07:29:34 Phase complete: INSTALL State: SUCCEEDED\n",
      "[Container] 2021/08/21 07:29:34 Phase context status code:  Message:\n",
      "[Container] 2021/08/21 07:29:34 Entering phase PRE_BUILD\n",
      "[Container] 2021/08/21 07:29:34 Running command echo Logging in to Amazon ECR...\n",
      "Logging in to Amazon ECR...\n",
      "\n",
      "[Container] 2021/08/21 07:29:34 Running command $(aws ecr get-login --no-include-email --region $AWS_DEFAULT_REGION)\n",
      "WARNING! Using --password via the CLI is insecure. Use --password-stdin.\n",
      "WARNING! Your password will be stored unencrypted in /root/.docker/config.json.\n",
      "Configure a credential helper to remove this warning. See\n",
      "https://docs.docker.com/engine/reference/commandline/login/#credentials-store\n",
      "\n",
      "Login Succeeded\n",
      "\n",
      "[Container] 2021/08/21 07:29:39 Running command $(aws ecr get-login --no-include-email --region $AWS_DEFAULT_REGION --registry-ids 763104351884)\n",
      "WARNING! Using --password via the CLI is insecure. Use --password-stdin.\n",
      "WARNING! Your password will be stored unencrypted in /root/.docker/config.json.\n",
      "Configure a credential helper to remove this warning. See\n",
      "https://docs.docker.com/engine/reference/commandline/login/#credentials-store\n",
      "\n",
      "Login Succeeded\n",
      "\n",
      "[Container] 2021/08/21 07:29:40 Running command $(aws ecr get-login --no-include-email --region $AWS_DEFAULT_REGION --registry-ids 217643126080)\n",
      "WARNING! Using --password via the CLI is insecure. Use --password-stdin.\n",
      "WARNING! Your password will be stored unencrypted in /root/.docker/config.json.\n",
      "Configure a credential helper to remove this warning. See\n",
      "https://docs.docker.com/engine/reference/commandline/login/#credentials-store\n",
      "\n",
      "Login Succeeded\n",
      "\n",
      "[Container] 2021/08/21 07:29:40 Running command $(aws ecr get-login --no-include-email --region $AWS_DEFAULT_REGION --registry-ids 727897471807)\n",
      "WARNING! Using --password via the CLI is insecure. Use --password-stdin.\n",
      "WARNING! Your password will be stored unencrypted in /root/.docker/config.json.\n",
      "Configure a credential helper to remove this warning. See\n",
      "https://docs.docker.com/engine/reference/commandline/login/#credentials-store\n",
      "\n",
      "Login Succeeded\n",
      "\n",
      "[Container] 2021/08/21 07:29:41 Running command $(aws ecr get-login --no-include-email --region $AWS_DEFAULT_REGION --registry-ids 626614931356)\n",
      "WARNING! Using --password via the CLI is insecure. Use --password-stdin.\n",
      "WARNING! Your password will be stored unencrypted in /root/.docker/config.json.\n",
      "Configure a credential helper to remove this warning. See\n",
      "https://docs.docker.com/engine/reference/commandline/login/#credentials-store\n",
      "\n",
      "Login Succeeded\n",
      "\n",
      "[Container] 2021/08/21 07:29:42 Running command $(aws ecr get-login --no-include-email --region $AWS_DEFAULT_REGION --registry-ids 683313688378)\n",
      "WARNING! Using --password via the CLI is insecure. Use --password-stdin.\n",
      "WARNING! Your password will be stored unencrypted in /root/.docker/config.json.\n",
      "Configure a credential helper to remove this warning. See\n",
      "https://docs.docker.com/engine/reference/commandline/login/#credentials-store\n",
      "\n",
      "Login Succeeded\n",
      "\n",
      "[Container] 2021/08/21 07:29:42 Running command $(aws ecr get-login --no-include-email --region $AWS_DEFAULT_REGION --registry-ids 520713654638)\n",
      "WARNING! Using --password via the CLI is insecure. Use --password-stdin.\n",
      "WARNING! Your password will be stored unencrypted in /root/.docker/config.json.\n",
      "Configure a credential helper to remove this warning. See\n",
      "https://docs.docker.com/engine/reference/commandline/login/#credentials-store\n",
      "\n",
      "Login Succeeded\n",
      "\n",
      "[Container] 2021/08/21 07:29:42 Running command $(aws ecr get-login --no-include-email --region $AWS_DEFAULT_REGION --registry-ids 462105765813)\n",
      "WARNING! Using --password via the CLI is insecure. Use --password-stdin.\n",
      "WARNING! Your password will be stored unencrypted in /root/.docker/config.json.\n",
      "Configure a credential helper to remove this warning. See\n",
      "https://docs.docker.com/engine/reference/commandline/login/#credentials-store\n",
      "\n",
      "Login Succeeded\n",
      "\n",
      "[Container] 2021/08/21 07:29:43 Phase complete: PRE_BUILD State: SUCCEEDED\n",
      "[Container] 2021/08/21 07:29:43 Phase context status code:  Message:\n",
      "[Container] 2021/08/21 07:29:43 Entering phase BUILD\n",
      "[Container] 2021/08/21 07:29:43 Running command echo Build started on `date`\n",
      "Build started on Sat Aug 21 07:29:43 UTC 2021\n",
      "\n",
      "[Container] 2021/08/21 07:29:43 Running command echo Building the Docker image...\n",
      "Building the Docker image...\n",
      "\n",
      "[Container] 2021/08/21 07:29:43 Running command docker build -t $IMAGE_REPO_NAME:$IMAGE_TAG .\n",
      "Sending build context to Docker daemon  268.8MB\n",
      "Step 1/6 : FROM public.ecr.aws/lambda/python:3.8\n",
      "3.8: Pulling from lambda/python\n",
      "e6bcf8dfcded: Pulling fs layer\n",
      "fee9505e0913: Pulling fs layer\n",
      "8854fbb19250: Pulling fs layer\n",
      "bb2e44738d79: Pulling fs layer\n",
      "a6c9edbd2f2b: Pulling fs layer\n",
      "2c39357de388: Pulling fs layer\n",
      "a6c9edbd2f2b: Waiting\n",
      "bb2e44738d79: Waiting\n",
      "2c39357de388: Waiting\n",
      "8854fbb19250: Verifying Checksum\n",
      "8854fbb19250: Download complete\n",
      "fee9505e0913: Verifying Checksum\n",
      "fee9505e0913: Download complete\n",
      "bb2e44738d79: Verifying Checksum\n",
      "bb2e44738d79: Download complete\n",
      "2c39357de388: Verifying Checksum\n",
      "2c39357de388: Download complete\n",
      "a6c9edbd2f2b: Verifying Checksum\n",
      "a6c9edbd2f2b: Download complete\n",
      "e6bcf8dfcded: Verifying Checksum\n",
      "e6bcf8dfcded: Download complete\n",
      "e6bcf8dfcded: Pull complete\n",
      "fee9505e0913: Pull complete\n",
      "8854fbb19250: Pull complete\n",
      "bb2e44738d79: Pull complete\n",
      "a6c9edbd2f2b: Pull complete\n",
      "2c39357de388: Pull complete\n",
      "Digest: sha256:94523267dc298b5e79f3e65519e69bf47f16a269513b9ec12a0af1dba1d6b4f9\n",
      "Status: Downloaded newer image for public.ecr.aws/lambda/python:3.8\n",
      " ---> a9b6ac07b7e3\n",
      "Step 2/6 : COPY requirements.txt ./requirements.txt\n",
      " ---> 120e61bece0e\n",
      "Step 3/6 : RUN pip install -r requirements.txt\n",
      " ---> Running in bf95240df9f7\n",
      "Looking in links: https://download.pytorch.org/whl/torch_stable.html\n",
      "Collecting torch==1.7.1+cpu\n",
      "  Downloading https://download.pytorch.org/whl/cpu/torch-1.7.1%2Bcpu-cp38-cp38-linux_x86_64.whl (159.4 MB)\n",
      "Collecting transformers==4.9.2\n",
      "  Downloading transformers-4.9.2-py3-none-any.whl (2.6 MB)\n",
      "Collecting numpy\n",
      "  Downloading numpy-1.21.2-cp38-cp38-manylinux_2_12_x86_64.manylinux2010_x86_64.whl (15.8 MB)\n",
      "Collecting typing-extensions\n",
      "  Downloading typing_extensions-3.10.0.0-py3-none-any.whl (26 kB)\n",
      "Collecting filelock\n",
      "  Downloading filelock-3.0.12-py3-none-any.whl (7.6 kB)\n",
      "Collecting regex!=2019.12.17\n",
      "  Downloading regex-2021.8.3-cp38-cp38-manylinux_2_17_x86_64.manylinux2014_x86_64.whl (738 kB)\n",
      "Collecting huggingface-hub==0.0.12\n",
      "  Downloading huggingface_hub-0.0.12-py3-none-any.whl (37 kB)\n",
      "Collecting tokenizers<0.11,>=0.10.1\n",
      "  Downloading tokenizers-0.10.3-cp38-cp38-manylinux_2_5_x86_64.manylinux1_x86_64.manylinux_2_12_x86_64.manylinux2010_x86_64.whl (3.3 MB)\n",
      "Collecting packaging\n",
      "  Downloading packaging-21.0-py3-none-any.whl (40 kB)\n",
      "Collecting requests\n",
      "  Downloading requests-2.26.0-py2.py3-none-any.whl (62 kB)\n",
      "Collecting sacremoses\n",
      "  Downloading sacremoses-0.0.45-py3-none-any.whl (895 kB)\n",
      "Collecting pyyaml>=5.1\n",
      "  Downloading PyYAML-5.4.1-cp38-cp38-manylinux1_x86_64.whl (662 kB)\n",
      "Collecting tqdm>=4.27\n",
      "  Downloading tqdm-4.62.1-py2.py3-none-any.whl (76 kB)\n",
      "Collecting pyparsing>=2.0.2\n",
      "  Downloading pyparsing-2.4.7-py2.py3-none-any.whl (67 kB)\n"
     ]
    },
    {
     "name": "stdout",
     "output_type": "stream",
     "text": [
      "Collecting certifi>=2017.4.17\n",
      "  Downloading certifi-2021.5.30-py2.py3-none-any.whl (145 kB)\n",
      "Collecting idna<4,>=2.5\n",
      "  Downloading idna-3.2-py3-none-any.whl (59 kB)\n",
      "Collecting charset-normalizer~=2.0.0\n",
      "  Downloading charset_normalizer-2.0.4-py3-none-any.whl (36 kB)\n",
      "Collecting urllib3<1.27,>=1.21.1\n",
      "  Downloading urllib3-1.26.6-py2.py3-none-any.whl (138 kB)\n",
      "Collecting joblib\n",
      "  Downloading joblib-1.0.1-py3-none-any.whl (303 kB)\n",
      "Collecting six\n",
      "  Downloading six-1.16.0-py2.py3-none-any.whl (11 kB)\n",
      "Collecting click\n",
      "  Downloading click-8.0.1-py3-none-any.whl (97 kB)\n",
      "Installing collected packages: urllib3, pyparsing, idna, charset-normalizer, certifi, typing-extensions, tqdm, six, requests, regex, packaging, joblib, filelock, click, tokenizers, sacremoses, pyyaml, numpy, huggingface-hub, transformers, torch\n",
      "Successfully installed certifi-2021.5.30 charset-normalizer-2.0.4 click-8.0.1 filelock-3.0.12 huggingface-hub-0.0.12 idna-3.2 joblib-1.0.1 numpy-1.21.2 packaging-21.0 pyparsing-2.4.7 pyyaml-5.4.1 regex-2021.8.3 requests-2.26.0 sacremoses-0.0.45 six-1.16.0 tokenizers-0.10.3 torch-1.7.1+cpu tqdm-4.62.1 transformers-4.9.2 typing-extensions-3.10.0.0 urllib3-1.26.6\n",
      "\u001b[91mWARNING: Running pip as root will break packages and permissions. You should install packages reliably by using venv: https://pip.pypa.io/warnings/venv\n",
      "\u001b[0m\u001b[91mWARNING: You are using pip version 21.1.1; however, version 21.2.4 is available.\n",
      "You should consider upgrading via the '/var/lang/bin/python3.8 -m pip install --upgrade pip' command.\n",
      "\u001b[0mRemoving intermediate container bf95240df9f7\n",
      " ---> 2180e6aaa55c\n",
      "Step 4/6 : COPY ./model/   ./model/\n",
      " ---> abddf366c4f6\n",
      "Step 5/6 : COPY ./app/app.py   ./\n",
      " ---> 1d136bf1feac\n",
      "Step 6/6 : CMD [\"app.handler\"]\n",
      " ---> Running in 654ce2c510ff\n",
      "Removing intermediate container 654ce2c510ff\n",
      " ---> f8a7eb8182fa\n",
      "Successfully built f8a7eb8182fa\n",
      "Successfully tagged huggingface-on-lambda:1.0\n",
      "\n",
      "[Container] 2021/08/21 07:30:48 Running command docker tag $IMAGE_REPO_NAME:$IMAGE_TAG $AWS_ACCOUNT_ID.dkr.ecr.$AWS_DEFAULT_REGION.amazonaws.com/$IMAGE_REPO_NAME:$IMAGE_TAG\n",
      "\n",
      "[Container] 2021/08/21 07:30:48 Phase complete: BUILD State: SUCCEEDED\n",
      "[Container] 2021/08/21 07:30:48 Phase context status code:  Message:\n",
      "[Container] 2021/08/21 07:30:48 Entering phase POST_BUILD\n",
      "[Container] 2021/08/21 07:30:48 Running command echo Build completed on `date`\n",
      "Build completed on Sat Aug 21 07:30:48 UTC 2021\n",
      "\n",
      "[Container] 2021/08/21 07:30:48 Running command echo Pushing the Docker image...\n",
      "Pushing the Docker image...\n",
      "\n",
      "[Container] 2021/08/21 07:30:48 Running command docker push $AWS_ACCOUNT_ID.dkr.ecr.$AWS_DEFAULT_REGION.amazonaws.com/$IMAGE_REPO_NAME:$IMAGE_TAG\n",
      "The push refers to repository [077590795309.dkr.ecr.eu-west-1.amazonaws.com/huggingface-on-lambda]\n",
      "53f4f1399adf: Preparing\n",
      "ad9be5219947: Preparing\n",
      "27516d3bdc15: Preparing\n",
      "92c820567090: Preparing\n",
      "cdec68db6f31: Preparing\n",
      "58ff673bb431: Preparing\n",
      "f6ae2f36d5d7: Preparing\n",
      "e606998770ba: Preparing\n",
      "e04cc1a53c45: Preparing\n",
      "35e2a1be67d7: Preparing\n",
      "58ff673bb431: Waiting\n",
      "f6ae2f36d5d7: Waiting\n",
      "e606998770ba: Waiting\n",
      "e04cc1a53c45: Waiting\n",
      "35e2a1be67d7: Waiting\n",
      "cdec68db6f31: Layer already exists\n",
      "58ff673bb431: Layer already exists\n",
      "f6ae2f36d5d7: Layer already exists\n",
      "e606998770ba: Layer already exists\n",
      "92c820567090: Pushed\n",
      "53f4f1399adf: Pushed\n",
      "e04cc1a53c45: Layer already exists\n",
      "35e2a1be67d7: Layer already exists\n",
      "ad9be5219947: Pushed\n",
      "27516d3bdc15: Pushed\n",
      "1.0: digest: sha256:f0e2ae3aee2cceb6d93d628d9ce7d4ceb85b115c970bc829f64c2285c8764cbb size: 2421\n",
      "\n",
      "[Container] 2021/08/21 07:31:28 Phase complete: POST_BUILD State: SUCCEEDED\n",
      "[Container] 2021/08/21 07:31:28 Phase context status code:  Message:\n",
      "\n",
      "Image URI: 077590795309.dkr.ecr.eu-west-1.amazonaws.com/huggingface-on-lambda:1.0\n"
     ]
    }
   ],
   "source": [
    "!sm-docker build . --repository huggingface-on-lambda:1.0"
   ]
  },
  {
   "cell_type": "markdown",
   "id": "3174d981",
   "metadata": {},
   "source": [
    "## Deploy Container within a Lambda Function"
   ]
  },
  {
   "cell_type": "markdown",
   "id": "78fd7f0b",
   "metadata": {},
   "source": [
    "Create a serverless.yml file that points to the docker image uri + digest.\n",
    "\n",
    "We expect a POST request on the path \"prediction/\"\n",
    "\n",
    "More configuration can be found in the serverless file ..."
   ]
  },
  {
   "cell_type": "code",
   "execution_count": 24,
   "id": "c9ddcbde",
   "metadata": {},
   "outputs": [],
   "source": [
    "ACCOUNT_NUMBER = \"\"\n",
    "REGION = \"\"\n",
    "# {ACCOUNT_NUMBER}.dkr.ecr.{REGION}.amazonaws.com/huggingface-on-lambda\n",
    "image_uri= \"\"\n",
    "# sha256:f0e2ae3aee2cceb6d93d...\n",
    "image_digest = \"\""
   ]
  },
  {
   "cell_type": "markdown",
   "id": "6d9eab2d",
   "metadata": {},
   "source": [
    "__serverless file__:"
   ]
  },
  {
   "cell_type": "code",
   "execution_count": null,
   "id": "fe4c2af5",
   "metadata": {},
   "outputs": [],
   "source": [
    "print(f\"\"\"\n",
    "service: huggingface-on-lambda\n",
    "\n",
    "provider:\n",
    "  name: aws\n",
    "  region: eu-west-1 \n",
    "\n",
    "functions:\n",
    "  huggingface:\n",
    "    image: {image_uri}@{image_digest}\n",
    "    # 2 minutes before we throw a timeout\n",
    "    timeout: 120\n",
    "    # have 1 hot lambda available\n",
    "    provisionedConcurrency: 1\n",
    "    # our model is less than 1GB, so 1024MB is enough\n",
    "    memorySize: 1024 \n",
    "    events:\n",
    "      - http:\n",
    "          path: prediction\n",
    "          method: post\n",
    "\n",
    "\"\"\")"
   ]
  },
  {
   "cell_type": "markdown",
   "id": "085297e0",
   "metadata": {},
   "source": [
    "open an AWS cloudshell and install the serverless framework"
   ]
  },
  {
   "cell_type": "markdown",
   "id": "5dc460e5",
   "metadata": {},
   "source": [
    "    npm install serverless"
   ]
  },
  {
   "cell_type": "markdown",
   "id": "38145d60",
   "metadata": {},
   "source": [
    "create the serverless.yml file in the cloudshell\n",
    "    \n",
    "    cat > serverless.yml\n",
    "\n",
    "paste the contents and press ctrl + c to close and save the file.\n",
    "To deploy the stack run\n",
    "\n",
    "    npm install --prefix ./ serverless\n",
    "    node_modules/serverless/bin/serverless.js deploy\n",
    "    \n",
    "    \n",
    "            Output:\n",
    "    \n",
    "            Serverless: Packaging service...\n",
    "            Serverless: WARNING: Function huggingface has timeout of 120 seconds, however, \n",
    "            it's attached to API Gateway so it's automatically limited to 30 seconds.\n",
    "            Serverless: Uploading CloudFormation file to S3...\n",
    "            Serverless: Uploading artifacts...\n",
    "            Serverless: Validating template...\n",
    "            Serverless: Updating Stack...\n",
    "            Serverless: Checking Stack update progress...\n",
    "            ........................\n",
    "            Serverless: Stack update finished...\n",
    "            Service Information\n",
    "            service: huggingface-on-lambda\n",
    "            stage: dev\n",
    "            region: eu-west-1\n",
    "            stack: huggingface-on-lambda-dev\n",
    "            resources: 12\n",
    "            api keys:\n",
    "              None\n",
    "            endpoints:\n",
    "              POST - https://8af9ar02gi.execute-api.eu-west-1.amazonaws.com/dev/prediction\n",
    "            functions:\n",
    "              huggingface: huggingface-on-lambda-dev-huggingface\n",
    "            layers:\n",
    "              None\n",
    "            Serverless: Removing old service artifacts from S3...\n",
    "\n",
    "if deploy succeeds, call the endpoint\n",
    "\n",
    "    curl -d '{\"data\":\"some very much wow positive text!\"}' -H \"Content-Type: application/json\" -X POST https://8af9ar02gi.execute-api.eu-west-1.amazonaws.com/dev/prediction\n",
    "            \n",
    "            Output:\n",
    "            \n",
    "            [{\"label\": \"POSITIVE\", \"score\": 0.9998674392700195}]"
   ]
  },
  {
   "cell_type": "code",
   "execution_count": null,
   "id": "74202496",
   "metadata": {},
   "outputs": [],
   "source": []
  }
 ],
 "metadata": {
  "kernelspec": {
   "display_name": "conda_pytorch_latest_p36",
   "language": "python",
   "name": "conda_pytorch_latest_p36"
  },
  "language_info": {
   "codemirror_mode": {
    "name": "ipython",
    "version": 3
   },
   "file_extension": ".py",
   "mimetype": "text/x-python",
   "name": "python",
   "nbconvert_exporter": "python",
   "pygments_lexer": "ipython3",
   "version": "3.6.13"
  }
 },
 "nbformat": 4,
 "nbformat_minor": 5
}
